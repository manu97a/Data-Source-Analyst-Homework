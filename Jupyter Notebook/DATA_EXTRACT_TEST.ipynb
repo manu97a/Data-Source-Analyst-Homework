{
  "cells": [
    {
      "cell_type": "code",
      "execution_count": 80,
      "metadata": {
        "colab": {
          "base_uri": "https://localhost:8080/"
        },
        "id": "a08kYW2VmjJS",
        "outputId": "d172e722-6727-46be-dcde-489cc0f2b320"
      },
      "outputs": [
        {
          "name": "stdout",
          "output_type": "stream",
          "text": [
            "Requirement already satisfied: requests in /usr/local/lib/python3.11/dist-packages (2.32.3)\n",
            "Requirement already satisfied: charset-normalizer<4,>=2 in /usr/local/lib/python3.11/dist-packages (from requests) (3.4.2)\n",
            "Requirement already satisfied: idna<4,>=2.5 in /usr/local/lib/python3.11/dist-packages (from requests) (3.10)\n",
            "Requirement already satisfied: urllib3<3,>=1.21.1 in /usr/local/lib/python3.11/dist-packages (from requests) (2.4.0)\n",
            "Requirement already satisfied: certifi>=2017.4.17 in /usr/local/lib/python3.11/dist-packages (from requests) (2025.6.15)\n",
            "Requirement already satisfied: pandas in /usr/local/lib/python3.11/dist-packages (2.2.2)\n",
            "Requirement already satisfied: numpy>=1.23.2 in /usr/local/lib/python3.11/dist-packages (from pandas) (2.0.2)\n",
            "Requirement already satisfied: python-dateutil>=2.8.2 in /usr/local/lib/python3.11/dist-packages (from pandas) (2.9.0.post0)\n",
            "Requirement already satisfied: pytz>=2020.1 in /usr/local/lib/python3.11/dist-packages (from pandas) (2025.2)\n",
            "Requirement already satisfied: tzdata>=2022.7 in /usr/local/lib/python3.11/dist-packages (from pandas) (2025.2)\n",
            "Requirement already satisfied: six>=1.5 in /usr/local/lib/python3.11/dist-packages (from python-dateutil>=2.8.2->pandas) (1.17.0)\n",
            "Requirement already satisfied: numpy in /usr/local/lib/python3.11/dist-packages (2.0.2)\n"
          ]
        }
      ],
      "source": [
        "# Installing some libraries\n",
        "!pip install requests\n",
        "!pip install pandas\n",
        "!pip install numpy"
      ]
    },
    {
      "cell_type": "code",
      "execution_count": null,
      "metadata": {
        "colab": {
          "base_uri": "https://localhost:8080/"
        },
        "id": "3Yi-M7f8oIt2",
        "outputId": "526a0d07-c4e6-4707-d8a8-53117a696693"
      },
      "outputs": [
        {
          "name": "stdout",
          "output_type": "stream",
          "text": [
            "Enter yout Github Token :··········\n",
            "Succesful opperation. Authenticated user: manu97a\n"
          ]
        }
      ],
      "source": [
        "\n",
        "# STEP 3\n",
        "# Code for Authenthication\n",
        "from getpass import getpass\n",
        "import requests #just for check if You can get results from the api\n",
        "\n",
        "token = getpass(\"Enter yout Github Token :\")\n",
        "\n",
        "headers = {\n",
        "    \"Authorization\": f\"Bearer {token}\"\n",
        "}\n",
        "\n",
        "def test_connection():\n",
        "  response = requests.get(\"https://api.github.com/user\", headers=headers)\n",
        "  if response.status_code == 200:\n",
        "    user = response.json()\n",
        "    print(f\"Succesful opperation. Authenticated user: {user['login']}\")\n",
        "  else:\n",
        "    print(\"Connection failed. Check your token !\")\n",
        "\n",
        "test_connection()\n",
        "\n"
      ]
    },
    {
      "cell_type": "code",
      "execution_count": 82,
      "metadata": {
        "id": "EPEIoyvirmGJ"
      },
      "outputs": [],
      "source": [
        "## Code for make API requests\n",
        "\n",
        "# Search Repositories (public)\n",
        "\n",
        "def search_public_repositories(query = \"machine learning\", per_page = 10 , page = 1, created_after=None, min_stars=None):\n",
        "  if per_page > 100:\n",
        "    print(f\"Error. per_page cannot be greater than 100 (Github Limit)\")\n",
        "    return None,None\n",
        "  if (page * per_page) > 1000:\n",
        "    print(f\"Error. per_page*page cannot be greater than 1000 results (Github Limit)\")\n",
        "    return None,None\n",
        "  new_query = query\n",
        "  if created_after:\n",
        "    new_query += f\"+created:>={created_after}\"\n",
        "  if min_stars:\n",
        "    new_query += f\"+stars:>={min_stars}\"\n",
        "  api_url = f\"https://api.github.com/search/repositories?q={new_query}&per_page={per_page}&page={page}\"\n",
        "  res = requests.get(api_url, headers=headers)\n",
        "  if res.status_code == 200:\n",
        "    repositories = res.json()\n",
        "    print(f\"Repositories for the topic '{query}' : \\n\")\n",
        "    for repo in repositories['items'][:5]:\n",
        "      print(f\"{repo['full_name']}\")\n",
        "      print(f\"Description: {repo['description']}\\n\")\n",
        "    return repositories, api_url\n",
        "  else:\n",
        "    print(f\"Error {res.status_code}:{res.json()}\")\n",
        "    return None,api_url\n"
      ]
    },
    {
      "cell_type": "code",
      "execution_count": 83,
      "metadata": {
        "id": "OkAI8SPL7zNX"
      },
      "outputs": [],
      "source": [
        "# Code for make API requests\n",
        "#Commits of a repository\n",
        "\n",
        "def get_commits(owner=\"midudev\",repo= \"aprendiendo-react\", per_page= 10, since= None, until=None,page=1):\n",
        "  if per_page > 100:\n",
        "    print(f\"Error. per_page cannot be greater than 100 (Github Limit)\")\n",
        "    return None,None\n",
        "  if (page * per_page) > 1000:\n",
        "    print(f\"Error. per_page*page cannot be greater than 1000 results (Github Limit)\")\n",
        "    return None,None\n",
        "  parameters = {\n",
        "      \"per_page\": per_page,\n",
        "      \"page\":page\n",
        "  }\n",
        "  if since:\n",
        "    parameters[\"since\"] = since\n",
        "  if until:\n",
        "    parameters[\"until\"] = until\n",
        "  api_url = f\"https://api.github.com/repos/{owner}/{repo}/commits\"\n",
        "  res = requests.get(api_url, headers=headers,params=parameters)\n",
        "  if res.status_code == 200:\n",
        "    commits = res.json()\n",
        "    print(f\"The last {per_page} commits of {owner}/{repo}\")\n",
        "    for commit in commits:\n",
        "      print(f\"{commit['commit']['author']['date']}- {commit['commit']['author']['name']}\")\n",
        "      print(f\"{commit['commit']['message']}\\n\")\n",
        "    return commits,api_url\n",
        "\n",
        "  else:\n",
        "    print(f\"Error {res.status_code}:{res.json()}\")\n",
        "    return None,api_url\n"
      ]
    },
    {
      "cell_type": "code",
      "execution_count": 84,
      "metadata": {
        "id": "ykL3X48e72ix"
      },
      "outputs": [],
      "source": [
        "## Code for make API requests\n",
        "# Repo content\n",
        "\n",
        "def repo_content(owner = \"midudev\", repo= \"aprendiendo-react\", path=\"\"):\n",
        "   api_url = f\"https://api.github.com/repos/{owner}/{repo}/contents/{path}\"\n",
        "   res = requests.get(api_url, headers=headers)\n",
        "   if res.status_code == 200:\n",
        "    content = res.json()\n",
        "    print(f\"Owner:  {owner} \\n Name of the repo: {repo}\\n Content: {content} \\n\")\n",
        "    if isinstance(content,list):\n",
        "      download_links = []\n",
        "      for item in content:\n",
        "        print(f\"- {item['type'].capitalize()}: {item['name']}\")\n",
        "        if item['type'] == \"file\":\n",
        "          print(f\"Download link: {item['download_url']}\")\n",
        "          download_links.append(item['download_url'])\n",
        "      return download_links\n",
        "    elif isinstance(content, dict) and content.get(\"type\") == \"file\":\n",
        "      print(f\"File: {content['name']}\")\n",
        "      print(f\"Download link: {content['download_url']}\")\n",
        "      return content['download_url']\n",
        "    else:\n",
        "      print(\"This is not a recognized file or folder\")\n",
        "   else:\n",
        "    print(f\"Error {res.status_code}: {res.json()}\")"
      ]
    },
    {
      "cell_type": "code",
      "execution_count": 85,
      "metadata": {
        "colab": {
          "base_uri": "https://localhost:8080/"
        },
        "id": "lxR7ChsECfdA",
        "outputId": "d48bb8d0-6554-49b4-cdbe-226db62ca310"
      },
      "outputs": [
        {
          "name": "stdout",
          "output_type": "stream",
          "text": [
            "Remaining requests: 4984\n",
            "Reset datetime: 2025-06-26 22:49:52\n"
          ]
        }
      ],
      "source": [
        "## Function to handle rate limit\n",
        "from datetime import datetime\n",
        "def rate_limit(headers):\n",
        "  api_url = \"https://api.github.com/rate_limit\"\n",
        "  res = requests.get(api_url, headers=headers)\n",
        "  if res.status_code == 200:\n",
        "    data = res.json()\n",
        "    remaining_limit = data['rate']['remaining']\n",
        "    reset_time = data['rate']['reset']\n",
        "    reset_datetime = datetime.utcfromtimestamp(reset_time).strftime('%Y-%m-%d %H:%M:%S')\n",
        "    print(f\"Remaining requests: {remaining_limit}\")\n",
        "    print(f\"Reset datetime: {reset_datetime}\")\n",
        "  else:\n",
        "    print(f\"Error {res.status_code}:{res.json()}\")\n",
        "\n",
        "\n",
        "rate_limit(headers)\n",
        "\n"
      ]
    },
    {
      "cell_type": "markdown",
      "metadata": {
        "id": "EgvW0jH7IKC0"
      },
      "source": [
        "**Examples of using functions**"
      ]
    },
    {
      "cell_type": "markdown",
      "metadata": {
        "id": "2_V7a5p6Ilmc"
      },
      "source": [
        "How to use the functions for search public repositories"
      ]
    },
    {
      "cell_type": "markdown",
      "metadata": {
        "id": "9HOCmwuXq1XP"
      },
      "source": [
        "# 1. Examples for searching public repositories"
      ]
    },
    {
      "cell_type": "markdown",
      "metadata": {
        "id": "T1VAT4nasbl_"
      },
      "source": [
        "Search only with a keyword"
      ]
    },
    {
      "cell_type": "code",
      "execution_count": 86,
      "metadata": {
        "colab": {
          "base_uri": "https://localhost:8080/"
        },
        "id": "Df1OdnQ4rTIi",
        "outputId": "dabfe8b8-acde-494d-eec0-76847b93e6c4"
      },
      "outputs": [
        {
          "name": "stdout",
          "output_type": "stream",
          "text": [
            "Repositories for the topic 'javascript' : \n",
            "\n",
            "airbnb/javascript\n",
            "Description: JavaScript Style Guide\n",
            "\n",
            "TheAlgorithms/JavaScript\n",
            "Description: Algorithms and Data Structures implemented in JavaScript for beginners, following best practices.\n",
            "\n",
            "trekhleb/javascript-algorithms\n",
            "Description: 📝 Algorithms and data structures implemented in JavaScript with explanations and links to further readings\n",
            "\n",
            "GitbookIO/javascript\n",
            "Description: GitBook teaching programming basics with Javascript\n",
            "\n",
            "wesbos/JavaScript30\n",
            "Description: 30 Day Vanilla JS Challenge\n",
            "\n"
          ]
        }
      ],
      "source": [
        "repos, url = search_public_repositories(\"javascript\")"
      ]
    },
    {
      "cell_type": "markdown",
      "metadata": {
        "id": "rhVa_JU0sfWt"
      },
      "source": [
        "Search repositories created after a date"
      ]
    },
    {
      "cell_type": "code",
      "execution_count": 87,
      "metadata": {
        "colab": {
          "base_uri": "https://localhost:8080/"
        },
        "id": "Du0pnLntso1B",
        "outputId": "0faf1bc1-5cee-49ed-8153-79fd87ec2ceb"
      },
      "outputs": [
        {
          "name": "stdout",
          "output_type": "stream",
          "text": [
            "Repositories for the topic 'machine learning' : \n",
            "\n",
            "greyhatguy007/Machine-Learning-Specialization-Coursera\n",
            "Description:  Contains Solutions and Notes for the Machine Learning Specialization By Stanford University and Deeplearning.ai - Coursera (2022) by Prof. Andrew NG\n",
            "\n",
            "rasbt/machine-learning-book\n",
            "Description: Code Repository for Machine Learning with PyTorch and Scikit-Learn\n",
            "\n",
            "kaieye/2022-Machine-Learning-Specialization\n",
            "Description: None\n",
            "\n",
            "Nyandwi/machine_learning_complete\n",
            "Description: A comprehensive machine learning repository containing 30+ notebooks on different concepts, algorithms and techniques.\n",
            "\n",
            "christianversloot/machine-learning-articles\n",
            "Description: 🧠💬 Articles I wrote about machine learning, archived from MachineCurve.com.\n",
            "\n"
          ]
        }
      ],
      "source": [
        "repos, url = search_public_repositories(\"machine learning\", created_after=\"2021-07-12\")"
      ]
    },
    {
      "cell_type": "markdown",
      "metadata": {
        "id": "T-6kcxM_tPLW"
      },
      "source": [
        "Search repositories with a minimun number of stars"
      ]
    },
    {
      "cell_type": "code",
      "execution_count": 88,
      "metadata": {
        "colab": {
          "base_uri": "https://localhost:8080/"
        },
        "id": "mLLz1gKXtemX",
        "outputId": "2512aa99-60a1-43b1-c388-a8edfd3eb9a8"
      },
      "outputs": [
        {
          "name": "stdout",
          "output_type": "stream",
          "text": [
            "Repositories for the topic 'typescript' : \n",
            "\n",
            "microsoft/TypeScript\n",
            "Description: TypeScript is a superset of JavaScript that compiles to clean JavaScript output.\n",
            "\n",
            "zhongsp/TypeScript\n",
            "Description: TypeScript 使用手册（中文版）翻译。http://www.typescriptlang.org\n",
            "\n",
            "TheAlgorithms/TypeScript\n",
            "Description: Algorithms and Data Structures implemented in TypeScript for beginners, following best practices.\n",
            "\n",
            "typescript-eslint/typescript-eslint\n",
            "Description: :sparkles: Monorepo for all the tooling which enables ESLint to support TypeScript\n",
            "\n",
            "basarat/typescript-book\n",
            "Description: :books: The definitive guide to TypeScript and possibly the best TypeScript book :book:. Free and Open Source 🌹\n",
            "\n"
          ]
        }
      ],
      "source": [
        "repos, url = search_public_repositories(\"typescript\", min_stars=100)"
      ]
    },
    {
      "cell_type": "markdown",
      "metadata": {
        "id": "PurD6jKbt1rf"
      },
      "source": [
        "Search repositories by combining filters and printing the url of the request. This is usefull for debugging or use the url in the documentation"
      ]
    },
    {
      "cell_type": "code",
      "execution_count": 89,
      "metadata": {
        "colab": {
          "base_uri": "https://localhost:8080/"
        },
        "id": "c_M--QWCt1FZ",
        "outputId": "604ca035-fa0f-4906-fb67-355707cb903c"
      },
      "outputs": [
        {
          "name": "stdout",
          "output_type": "stream",
          "text": [
            "Repositories for the topic 'python' : \n",
            "\n",
            "dabeaz-course/practical-python\n",
            "Description: Practical Python Programming (course by @dabeaz)\n",
            "\n",
            "openai/openai-python\n",
            "Description: The official Python library for the OpenAI API\n",
            "\n",
            "Python-World/python-mini-projects\n",
            "Description: A collection of simple python mini projects to enhance your python skills\n",
            "\n",
            "mouredev/Hello-Python\n",
            "Description: Curso para aprender el lenguaje de programación Python desde cero y para principiantes. 100 clases, 44 horas en vídeo, código, proyectos y grupo de chat. Fundamentos, frontend, backend, testing, IA...\n",
            "\n",
            "iam-veeramalla/python-for-devops\n",
            "Description: Learn Python from DevOps Engineer point of you.\n",
            "\n",
            "API URL: https://api.github.com/search/repositories?q=python+created:>=2020-05-15+stars:>=1000&per_page=10&page=1\n"
          ]
        }
      ],
      "source": [
        "repos, url = search_public_repositories(\"python\",created_after=\"2020-05-15\", min_stars=1000)\n",
        "print(\"API URL:\", url)"
      ]
    },
    {
      "cell_type": "markdown",
      "metadata": {
        "id": "Vj-comgEvn4R"
      },
      "source": [
        "To perform the pagination process we have to use a loop, the use case of the function is the following:"
      ]
    },
    {
      "cell_type": "markdown",
      "metadata": {
        "id": "YCvnvrbxwLzj"
      },
      "source": []
    },
    {
      "cell_type": "code",
      "execution_count": 90,
      "metadata": {
        "colab": {
          "base_uri": "https://localhost:8080/"
        },
        "id": "L4-wr205vwxX",
        "outputId": "2a9911fb-d86c-4cca-ce94-a5bde6b318ef"
      },
      "outputs": [
        {
          "name": "stdout",
          "output_type": "stream",
          "text": [
            "Repositories for the topic 'javascript' : \n",
            "\n",
            "airbnb/javascript\n",
            "Description: JavaScript Style Guide\n",
            "\n",
            "TheAlgorithms/JavaScript\n",
            "Description: Algorithms and Data Structures implemented in JavaScript for beginners, following best practices.\n",
            "\n",
            "trekhleb/javascript-algorithms\n",
            "Description: 📝 Algorithms and data structures implemented in JavaScript with explanations and links to further readings\n",
            "\n",
            "GitbookIO/javascript\n",
            "Description: GitBook teaching programming basics with Javascript\n",
            "\n",
            "wesbos/JavaScript30\n",
            "Description: 30 Day Vanilla JS Challenge\n",
            "\n",
            "Repositories for the topic 'javascript' : \n",
            "\n",
            "yml2213/javascript\n",
            "Description: js自用脚本\n",
            "\n",
            "LinkedInLearning/javascript-essential-training-2832077\n",
            "Description: This repository is for the Linkedin Learning course: JavaScript Essential Training\n",
            "\n",
            "uprock/javascript\n",
            "Description: None\n",
            "\n",
            "ironhack-labs/lab-javascript-vikings\n",
            "Description: A JavaScript exercise to practice Object Oriented Programming\n",
            "\n",
            "godotjs/javascript\n",
            "Description: Javascript binding for godotengine\n",
            "\n",
            "Repositories for the topic 'javascript' : \n",
            "\n",
            "MicrosoftDocs/pipelines-javascript-docker\n",
            "Description: Sample Node.js Docker application referred to by Azure Pipelines documentation\n",
            "\n",
            "BonsaiDen/JavaScript-Garden\n",
            "Description: A collection of documentation about the most quirky parts of the JavaScript language. \n",
            "\n",
            "alok722/namaste-javascript-notes\n",
            "Description: It maintains my version of namaste js notes which I learnt from Namaste JS YouTube Playlist by Akshay Saini (@akshaymarch7).\n",
            "\n",
            "pangloss/vim-javascript\n",
            "Description: Vastly improved Javascript indentation and syntax support in Vim.\n",
            "\n",
            "ironhack-labs/lab-javascript-functions-and-arrays\n",
            "Description: An exercise to apply an array iteration and array manipulation techniques \n",
            "\n",
            "Repositories for the topic 'javascript' : \n",
            "\n",
            "BingKui/javascript-zh\n",
            "Description: Airbnb 出品，目前非常流行的 JavaScript 代码规范（中文版）。其内对各种 js 范式的写法进行了详细的规定与说明，按照此规范写出的代码将会更加合理。\n",
            "\n",
            "kennymkchan/interview-questions-in-javascript\n",
            "Description: A mostly reasonable collection of technical software development interview questions solved in Javascript\n",
            "\n",
            "Reactive-Extensions/RxJS\n",
            "Description: The Reactive Extensions for JavaScript\n",
            "\n",
            "ErickWendel/semana-javascript-expert07\n",
            "Description: JS Expert Week 7.0 - 🙅🤏🏻 Controlling Streaming Platforms using Eye and Hand Detection 👁🖐\n",
            "\n",
            "bgrins/javascript-astar\n",
            "Description: A* Search / Pathfinding Algorithm in Javascript\n",
            "\n"
          ]
        }
      ],
      "source": [
        "pagination_repos = []\n",
        "for page in range(1,5):\n",
        "  repositories , urls = search_public_repositories(\"javascript\", per_page=50,page = page)\n",
        "  if repositories:\n",
        "    pagination_repos.extend(repositories[\"items\"])\n",
        "\n"
      ]
    },
    {
      "cell_type": "markdown",
      "metadata": {
        "id": "uvFlFkiKzIS5"
      },
      "source": [
        "# 2. Searching commits of a repository"
      ]
    },
    {
      "cell_type": "markdown",
      "metadata": {
        "id": "rMEcgATj0ArA"
      },
      "source": [
        "Get the last 5 commits of a repository"
      ]
    },
    {
      "cell_type": "code",
      "execution_count": 91,
      "metadata": {
        "colab": {
          "base_uri": "https://localhost:8080/"
        },
        "id": "gq_kVdx0zV55",
        "outputId": "462c7a85-fd1c-43d9-fbc9-38c6c78b7c87"
      },
      "outputs": [
        {
          "name": "stdout",
          "output_type": "stream",
          "text": [
            "The last 5 commits of midudev/aprendiendo-react\n",
            "2025-01-03T11:27:31Z- Miguel Ángel Durán\n",
            "Merge pull request #109 from GianninaGit/patch-3\n",
            "\n",
            "Avoid translate of \"Tic tac toe\" in spanish App.jsx\n",
            "\n",
            "2025-01-03T11:27:16Z- Miguel Ángel Durán\n",
            "Merge pull request #108 from GianninaGit/patch-2\n",
            "\n",
            "Remove border in .winner .win from index.css\n",
            "\n",
            "2025-01-03T11:26:22Z- Miguel Ángel Durán\n",
            "Merge pull request #107 from leo-dillon/master\n",
            "\n",
            "Error en la carga de imagenes de Creación de un ecommerce con carrito de compras\n",
            "\n",
            "2024-05-24T13:33:33Z- Miguel Ángel Durán\n",
            "Update README.md\n",
            "\n",
            "2024-03-10T00:36:27Z- Giannina\n",
            "Avoid translate of \"Tic tac toe\" in spanish App.jsx\n",
            "\n",
            "A pesar de tener en Layout.astro <html lang=\"es\">, cuando el browser está en español, se traduce el título \"Tic tac toe\". He añadido translate=\"no\" en App.jsx para evitar que esto ocurra :)\n",
            "\n"
          ]
        }
      ],
      "source": [
        "commits_data,url = get_commits(owner=\"midudev\",repo=\"aprendiendo-react\",per_page=5)"
      ]
    },
    {
      "cell_type": "markdown",
      "metadata": {
        "id": "tOC2phvA1Ik8"
      },
      "source": [
        "Filtering commits from a specific date"
      ]
    },
    {
      "cell_type": "code",
      "execution_count": 92,
      "metadata": {
        "colab": {
          "base_uri": "https://localhost:8080/"
        },
        "id": "hqy0goFe1Orn",
        "outputId": "996867fd-e36c-4a8b-c33c-ec6e1b44ad74"
      },
      "outputs": [
        {
          "name": "stdout",
          "output_type": "stream",
          "text": [
            "The last 5 commits of midudev/la-velada-web-oficial\n",
            "2025-05-21T14:40:00Z- midudev\n",
            "Remove experimental flag\n",
            "\n",
            "2025-05-21T14:35:19Z- midudev\n",
            "Upgrade dependencies\n",
            "\n",
            "2025-05-21T14:33:29Z- midudev\n",
            "Merge branch 'main' of github.com:midudev/la-velada-web-oficial\n",
            "\n",
            "2025-05-21T14:33:27Z- midudev\n",
            "fix: ajustar formato de código y agregar metadatos estructurados para el evento\n",
            "\n",
            "2025-05-20T08:46:56Z- Miguel Ángel Durán\n",
            "Merge pull request #1393 from BlondyMartinez/main\n",
            "\n",
            "fix: missing hyperlink to infojobs\n",
            "\n"
          ]
        }
      ],
      "source": [
        "commits_data,url = get_commits(owner=\"midudev\",repo=\"la-velada-web-oficial\",per_page=5,since=\"2024-12-01T00:00:00Z\")"
      ]
    },
    {
      "cell_type": "markdown",
      "metadata": {
        "id": "61WmH4z_36Em"
      },
      "source": [
        "Filtering 10 commits within a date range"
      ]
    },
    {
      "cell_type": "code",
      "execution_count": 93,
      "metadata": {
        "colab": {
          "base_uri": "https://localhost:8080/"
        },
        "id": "cK1X3fyR35qj",
        "outputId": "208b8124-4096-40bf-e4f4-320d71942e08"
      },
      "outputs": [
        {
          "name": "stdout",
          "output_type": "stream",
          "text": [
            "The last 10 commits of midudev/javascript-100-proyectos\n",
            "2024-03-31T23:29:52Z- Miguel Ángel Durán\n",
            "Update README.md\n",
            "\n",
            "2024-03-31T23:29:21Z- Miguel Ángel Durán\n",
            "add new project\n",
            "\n",
            "2024-03-28T21:21:36Z- Miguel Ángel Durán\n",
            "Merge branch 'main' of github.com:midudev/javascript-100-proyectos\n",
            "\n",
            "2024-03-28T21:21:16Z- Miguel Ángel Durán\n",
            "Upgrade dependencies\n",
            "\n",
            "2024-03-28T21:19:56Z- Miguel Ángel Durán\n",
            "Update README.md\n",
            "\n",
            "2024-03-28T21:19:06Z- Miguel Ángel Durán\n",
            "Add new project\n",
            "\n",
            "2024-03-28T18:45:51Z- Miguel Ángel Durán\n",
            "Fix initial time\n",
            "\n",
            "2024-03-28T18:43:45Z- Miguel Ángel Durán\n",
            "Add data and project 03\n",
            "\n",
            "2024-03-05T08:39:59Z- Miguel Ángel Durán\n",
            "Merge pull request #26 from JaimeGamm/main\n",
            "\n",
            "cambios en dimension de las imagenes y una imagen no tenia el atribut…\n",
            "\n",
            "2024-03-05T08:38:59Z- Miguel Ángel Durán\n",
            "Merge pull request #27 from EduWTR/title-to-iframe\n",
            "\n",
            "fix: add title to iframe for better accessibility ( web )\n",
            "\n"
          ]
        }
      ],
      "source": [
        "commits_data,url = get_commits(\n",
        "    owner=\"midudev\",\n",
        "    repo=\"javascript-100-proyectos\",\n",
        "    since=\"2024-03-01T00:00:00Z\",\n",
        "    until=\"2024-04-01T00:00:00Z\",\n",
        "    per_page=10\n",
        ")"
      ]
    },
    {
      "cell_type": "markdown",
      "metadata": {
        "id": "r2lINt9n5_yv"
      },
      "source": [
        "To perform the pagination process we have to use a loop, the use case of the function is the following:"
      ]
    },
    {
      "cell_type": "code",
      "execution_count": 94,
      "metadata": {
        "colab": {
          "base_uri": "https://localhost:8080/"
        },
        "id": "ZtJb1o7D6A1k",
        "outputId": "1d1e83e8-471b-412a-d976-3ed9d9db1672"
      },
      "outputs": [
        {
          "name": "stdout",
          "output_type": "stream",
          "text": [
            "\n",
            "Page: 1\n",
            "The last 10 commits of midudev/javascript-100-proyectos\n",
            "2024-12-23T09:43:13Z- midudev\n",
            "Add project 12: Animación de fondo por scroll with GitHub and Vercel links in README.md\n",
            "\n",
            "2024-12-20T14:17:07Z- Miguel Ángel Durán\n",
            "Merge branch 'main' of github.com:midudev/javascript-100-proyectos\n",
            "\n",
            "2024-12-20T14:16:59Z- Miguel Ángel Durán\n",
            "fix lo\n",
            "\n",
            "2024-12-20T08:29:34Z- midudev\n",
            "Add project 12: Animación por Scroll with YouTube link\n",
            "\n",
            "2024-12-20T08:29:14Z- midudev\n",
            "Add project 12\n",
            "\n",
            "2024-12-20T08:28:54Z- midudev\n",
            "Refactor: Center content and change div to aside in project 11\n",
            "\n",
            "2024-12-20T08:28:42Z- midudev\n",
            "Add image project 12\n",
            "\n",
            "2024-12-20T08:23:12Z- Miguel Ángel Durán\n",
            "Merge pull request #72 from GFrancV/main\n",
            "\n",
            "Fix: Add YouTube link in project  11\n",
            "\n",
            "2024-12-19T12:09:17Z- GFrancV\n",
            "Fix: Add YouTube link in project  11\n",
            "\n",
            "2024-12-19T11:30:02Z- Miguel Ángel Durán\n",
            "Add images\n",
            "\n",
            " Fetched 10 commits from https://api.github.com/repos/midudev/javascript-100-proyectos/commits\n",
            "\n",
            "Page: 2\n",
            "The last 10 commits of midudev/javascript-100-proyectos\n",
            "2024-12-19T11:29:31Z- Miguel Ángel Durán\n",
            "Merge branch 'main' of github.com:midudev/javascript-100-proyectos\n",
            "\n",
            "2024-12-19T11:29:22Z- Miguel Ángel Durán\n",
            "Add new project 12\n",
            "\n",
            "2024-12-18T16:42:30Z- Miguel Ángel Durán\n",
            "Merge pull request #71 from estebancastano/patch-1\n",
            "\n",
            "Fix : Update links to code\n",
            "\n",
            "2024-12-17T19:01:53Z- Esteban Castaño\n",
            "Fix : Update links to code\n",
            "\n",
            "Update links to code to many projects from 8 to 11\n",
            "\n",
            "2024-12-12T14:13:52Z- Miguel Ángel Durán\n",
            "Merge pull request #70 from Nachorojo2015/patch-1\n",
            "\n",
            "Adding project 11 to the .md table\n",
            "\n",
            "2024-12-11T23:33:25Z- Ignacio Gómez Rodríguez\n",
            "add proyect 11 to table from .md\n",
            "\n",
            "2024-12-11T19:17:36Z- Miguel Ángel Durán\n",
            "Merge pull request #62 from MarcosKlender/discord\n",
            "\n",
            "Add discord button (like cursoreact.dev)\n",
            "\n",
            "2024-12-11T19:16:06Z- Miguel Ángel Durán\n",
            "style(index.html): Center content using grid layout and ensure full viewport height for better display\n",
            "\n",
            "2024-12-11T19:16:02Z- Miguel Ángel Durán\n",
            "Add new project\n",
            "\n",
            "2024-12-11T19:15:57Z- Miguel Ángel Durán\n",
            "Add image\n",
            "\n",
            " Fetched 10 commits from https://api.github.com/repos/midudev/javascript-100-proyectos/commits\n",
            "\n",
            "Page: 3\n",
            "The last 10 commits of midudev/javascript-100-proyectos\n",
            "2024-12-11T19:15:50Z- Miguel Ángel Durán\n",
            "feat(astro) Initialize content assets and modules with Map; update last update timestamp in settings.json\n",
            "\n",
            "2024-12-11T19:15:43Z- Miguel Ángel Durán\n",
            "Upgrade dependency\n",
            "\n",
            "2024-12-11T19:15:33Z- Miguel Ángel Durán\n",
            "style(index.html) Center content and change div to aside for better semantics in the performance benchmark layout\n",
            "\n",
            "2024-12-11T19:10:18Z- Miguel Ángel Durán\n",
            "feat(js-perf-benchmark) Add HTML and worker scripts for JavaScript performance benchmarking tool with real-time results visualization\n",
            "\n",
            "2024-12-11T19:10:12Z- Miguel Ángel Durán\n",
            "Add save icon\n",
            "\n",
            "2024-12-11T19:10:05Z- Miguel Ángel Durán\n",
            "feat(paint-win-95) Add save button functionality to export drawings as PNG files in the paint app\n",
            "\n",
            "2024-12-11T19:10:00Z- Miguel Ángel Durán\n",
            "fix(layout) Update alignment to 'last baseline' for consistent styling in Tinder swipe project HTML file\n",
            "\n",
            "2024-12-11T19:09:55Z- Miguel Ángel Durán\n",
            "Upgrade dependencies\n",
            "\n",
            "2024-12-11T18:47:12Z- Miguel Ángel Durán\n",
            "feat(performance-benchmark) Add worker.js for async code execution and performance measurement in benchmarking tool\n",
            "\n",
            "2024-12-11T18:47:08Z- Miguel Ángel Durán\n",
            "feat(performance-benchmark) Add HTML structure and styles for JS performance benchmarking tool with test cases and charting\n",
            "\n",
            " Fetched 10 commits from https://api.github.com/repos/midudev/javascript-100-proyectos/commits\n"
          ]
        }
      ],
      "source": [
        "results_per_page = 10\n",
        "pages = 3\n",
        "for page in range(1, pages + 1):\n",
        "    print(f\"\\nPage: {page}\")\n",
        "    commits, url = get_commits(\n",
        "        owner=\"midudev\",\n",
        "        repo=\"javascript-100-proyectos\",\n",
        "        per_page=results_per_page,\n",
        "        page=page\n",
        "    )\n",
        "    if commits:\n",
        "      print(f\" Fetched {len(commits)} commits from {url}\")\n",
        "    else:\n",
        "      print(\"No more commits found\")"
      ]
    },
    {
      "cell_type": "markdown",
      "metadata": {
        "id": "4PCB2bL885gt"
      },
      "source": [
        "## 3. Examples for getting repo content"
      ]
    },
    {
      "cell_type": "markdown",
      "metadata": {
        "id": "mFUMjiuJ9SRH"
      },
      "source": [
        "Show all the root files of the repository"
      ]
    },
    {
      "cell_type": "code",
      "execution_count": 104,
      "metadata": {
        "colab": {
          "base_uri": "https://localhost:8080/"
        },
        "id": "MrysVTLE9Bau",
        "outputId": "2c7e00f5-0628-49d2-ba73-c41b5513f923"
      },
      "outputs": [
        {
          "name": "stdout",
          "output_type": "stream",
          "text": [
            "Owner:  midudev \n",
            " Name of the repo: porfolio.dev\n",
            " Content: [{'name': '.gitignore', 'path': '.gitignore', 'sha': 'b871ec039a2c06b90459add2d6385c5a0107c8cd', 'size': 268, 'url': 'https://api.github.com/repos/midudev/porfolio.dev/contents/.gitignore?ref=main', 'html_url': 'https://github.com/midudev/porfolio.dev/blob/main/.gitignore', 'git_url': 'https://api.github.com/repos/midudev/porfolio.dev/git/blobs/b871ec039a2c06b90459add2d6385c5a0107c8cd', 'download_url': 'https://raw.githubusercontent.com/midudev/porfolio.dev/main/.gitignore', 'type': 'file', '_links': {'self': 'https://api.github.com/repos/midudev/porfolio.dev/contents/.gitignore?ref=main', 'git': 'https://api.github.com/repos/midudev/porfolio.dev/git/blobs/b871ec039a2c06b90459add2d6385c5a0107c8cd', 'html': 'https://github.com/midudev/porfolio.dev/blob/main/.gitignore'}}, {'name': '.vscode', 'path': '.vscode', 'sha': '0c33c7c3c06928c95be8c68f9f15a508c844a3dc', 'size': 0, 'url': 'https://api.github.com/repos/midudev/porfolio.dev/contents/.vscode?ref=main', 'html_url': 'https://github.com/midudev/porfolio.dev/tree/main/.vscode', 'git_url': 'https://api.github.com/repos/midudev/porfolio.dev/git/trees/0c33c7c3c06928c95be8c68f9f15a508c844a3dc', 'download_url': None, 'type': 'dir', '_links': {'self': 'https://api.github.com/repos/midudev/porfolio.dev/contents/.vscode?ref=main', 'git': 'https://api.github.com/repos/midudev/porfolio.dev/git/trees/0c33c7c3c06928c95be8c68f9f15a508c844a3dc', 'html': 'https://github.com/midudev/porfolio.dev/tree/main/.vscode'}}, {'name': 'LICENSE.md', 'path': 'LICENSE.md', 'sha': 'c657cab45c850057a63b3605897f5195f3c4ac02', 'size': 19346, 'url': 'https://api.github.com/repos/midudev/porfolio.dev/contents/LICENSE.md?ref=main', 'html_url': 'https://github.com/midudev/porfolio.dev/blob/main/LICENSE.md', 'git_url': 'https://api.github.com/repos/midudev/porfolio.dev/git/blobs/c657cab45c850057a63b3605897f5195f3c4ac02', 'download_url': 'https://raw.githubusercontent.com/midudev/porfolio.dev/main/LICENSE.md', 'type': 'file', '_links': {'self': 'https://api.github.com/repos/midudev/porfolio.dev/contents/LICENSE.md?ref=main', 'git': 'https://api.github.com/repos/midudev/porfolio.dev/git/blobs/c657cab45c850057a63b3605897f5195f3c4ac02', 'html': 'https://github.com/midudev/porfolio.dev/blob/main/LICENSE.md'}}, {'name': 'README.md', 'path': 'README.md', 'sha': '5295cb61b5399579ef86bb2fad4f7c8e0ab23d20', 'size': 895, 'url': 'https://api.github.com/repos/midudev/porfolio.dev/contents/README.md?ref=main', 'html_url': 'https://github.com/midudev/porfolio.dev/blob/main/README.md', 'git_url': 'https://api.github.com/repos/midudev/porfolio.dev/git/blobs/5295cb61b5399579ef86bb2fad4f7c8e0ab23d20', 'download_url': 'https://raw.githubusercontent.com/midudev/porfolio.dev/main/README.md', 'type': 'file', '_links': {'self': 'https://api.github.com/repos/midudev/porfolio.dev/contents/README.md?ref=main', 'git': 'https://api.github.com/repos/midudev/porfolio.dev/git/blobs/5295cb61b5399579ef86bb2fad4f7c8e0ab23d20', 'html': 'https://github.com/midudev/porfolio.dev/blob/main/README.md'}}, {'name': 'astro.config.mjs', 'path': 'astro.config.mjs', 'sha': '07bf52f5558d4df5fc523933bb17e4c9d6ee9daa', 'size': 266, 'url': 'https://api.github.com/repos/midudev/porfolio.dev/contents/astro.config.mjs?ref=main', 'html_url': 'https://github.com/midudev/porfolio.dev/blob/main/astro.config.mjs', 'git_url': 'https://api.github.com/repos/midudev/porfolio.dev/git/blobs/07bf52f5558d4df5fc523933bb17e4c9d6ee9daa', 'download_url': 'https://raw.githubusercontent.com/midudev/porfolio.dev/main/astro.config.mjs', 'type': 'file', '_links': {'self': 'https://api.github.com/repos/midudev/porfolio.dev/contents/astro.config.mjs?ref=main', 'git': 'https://api.github.com/repos/midudev/porfolio.dev/git/blobs/07bf52f5558d4df5fc523933bb17e4c9d6ee9daa', 'html': 'https://github.com/midudev/porfolio.dev/blob/main/astro.config.mjs'}}, {'name': 'package.json', 'path': 'package.json', 'sha': '0a755e16324da761fdc08b734276af9d7fa8babb', 'size': 478, 'url': 'https://api.github.com/repos/midudev/porfolio.dev/contents/package.json?ref=main', 'html_url': 'https://github.com/midudev/porfolio.dev/blob/main/package.json', 'git_url': 'https://api.github.com/repos/midudev/porfolio.dev/git/blobs/0a755e16324da761fdc08b734276af9d7fa8babb', 'download_url': 'https://raw.githubusercontent.com/midudev/porfolio.dev/main/package.json', 'type': 'file', '_links': {'self': 'https://api.github.com/repos/midudev/porfolio.dev/contents/package.json?ref=main', 'git': 'https://api.github.com/repos/midudev/porfolio.dev/git/blobs/0a755e16324da761fdc08b734276af9d7fa8babb', 'html': 'https://github.com/midudev/porfolio.dev/blob/main/package.json'}}, {'name': 'pnpm-lock.yaml', 'path': 'pnpm-lock.yaml', 'sha': '372a1589654c480bda26fefef6218b9559d40825', 'size': 142182, 'url': 'https://api.github.com/repos/midudev/porfolio.dev/contents/pnpm-lock.yaml?ref=main', 'html_url': 'https://github.com/midudev/porfolio.dev/blob/main/pnpm-lock.yaml', 'git_url': 'https://api.github.com/repos/midudev/porfolio.dev/git/blobs/372a1589654c480bda26fefef6218b9559d40825', 'download_url': 'https://raw.githubusercontent.com/midudev/porfolio.dev/main/pnpm-lock.yaml', 'type': 'file', '_links': {'self': 'https://api.github.com/repos/midudev/porfolio.dev/contents/pnpm-lock.yaml?ref=main', 'git': 'https://api.github.com/repos/midudev/porfolio.dev/git/blobs/372a1589654c480bda26fefef6218b9559d40825', 'html': 'https://github.com/midudev/porfolio.dev/blob/main/pnpm-lock.yaml'}}, {'name': 'public', 'path': 'public', 'sha': 'b68480e05fe377915b15e261d495cc43fc59d003', 'size': 0, 'url': 'https://api.github.com/repos/midudev/porfolio.dev/contents/public?ref=main', 'html_url': 'https://github.com/midudev/porfolio.dev/tree/main/public', 'git_url': 'https://api.github.com/repos/midudev/porfolio.dev/git/trees/b68480e05fe377915b15e261d495cc43fc59d003', 'download_url': None, 'type': 'dir', '_links': {'self': 'https://api.github.com/repos/midudev/porfolio.dev/contents/public?ref=main', 'git': 'https://api.github.com/repos/midudev/porfolio.dev/git/trees/b68480e05fe377915b15e261d495cc43fc59d003', 'html': 'https://github.com/midudev/porfolio.dev/tree/main/public'}}, {'name': 'src', 'path': 'src', 'sha': 'f7727d80e402170eb2184ae9e08dfe0c5e494b80', 'size': 0, 'url': 'https://api.github.com/repos/midudev/porfolio.dev/contents/src?ref=main', 'html_url': 'https://github.com/midudev/porfolio.dev/tree/main/src', 'git_url': 'https://api.github.com/repos/midudev/porfolio.dev/git/trees/f7727d80e402170eb2184ae9e08dfe0c5e494b80', 'download_url': None, 'type': 'dir', '_links': {'self': 'https://api.github.com/repos/midudev/porfolio.dev/contents/src?ref=main', 'git': 'https://api.github.com/repos/midudev/porfolio.dev/git/trees/f7727d80e402170eb2184ae9e08dfe0c5e494b80', 'html': 'https://github.com/midudev/porfolio.dev/tree/main/src'}}, {'name': 'tailwind.config.mjs', 'path': 'tailwind.config.mjs', 'sha': '4d587ef7df38e9c5ef7ed962176ec831c64ef3eb', 'size': 196, 'url': 'https://api.github.com/repos/midudev/porfolio.dev/contents/tailwind.config.mjs?ref=main', 'html_url': 'https://github.com/midudev/porfolio.dev/blob/main/tailwind.config.mjs', 'git_url': 'https://api.github.com/repos/midudev/porfolio.dev/git/blobs/4d587ef7df38e9c5ef7ed962176ec831c64ef3eb', 'download_url': 'https://raw.githubusercontent.com/midudev/porfolio.dev/main/tailwind.config.mjs', 'type': 'file', '_links': {'self': 'https://api.github.com/repos/midudev/porfolio.dev/contents/tailwind.config.mjs?ref=main', 'git': 'https://api.github.com/repos/midudev/porfolio.dev/git/blobs/4d587ef7df38e9c5ef7ed962176ec831c64ef3eb', 'html': 'https://github.com/midudev/porfolio.dev/blob/main/tailwind.config.mjs'}}, {'name': 'tsconfig.json', 'path': 'tsconfig.json', 'sha': '83a3e72a4eb96d4031bffdbe64af76034bf55c55', 'size': 149, 'url': 'https://api.github.com/repos/midudev/porfolio.dev/contents/tsconfig.json?ref=main', 'html_url': 'https://github.com/midudev/porfolio.dev/blob/main/tsconfig.json', 'git_url': 'https://api.github.com/repos/midudev/porfolio.dev/git/blobs/83a3e72a4eb96d4031bffdbe64af76034bf55c55', 'download_url': 'https://raw.githubusercontent.com/midudev/porfolio.dev/main/tsconfig.json', 'type': 'file', '_links': {'self': 'https://api.github.com/repos/midudev/porfolio.dev/contents/tsconfig.json?ref=main', 'git': 'https://api.github.com/repos/midudev/porfolio.dev/git/blobs/83a3e72a4eb96d4031bffdbe64af76034bf55c55', 'html': 'https://github.com/midudev/porfolio.dev/blob/main/tsconfig.json'}}] \n",
            "\n",
            "- File: .gitignore\n",
            "Download link: https://raw.githubusercontent.com/midudev/porfolio.dev/main/.gitignore\n",
            "- Dir: .vscode\n",
            "- File: LICENSE.md\n",
            "Download link: https://raw.githubusercontent.com/midudev/porfolio.dev/main/LICENSE.md\n",
            "- File: README.md\n",
            "Download link: https://raw.githubusercontent.com/midudev/porfolio.dev/main/README.md\n",
            "- File: astro.config.mjs\n",
            "Download link: https://raw.githubusercontent.com/midudev/porfolio.dev/main/astro.config.mjs\n",
            "- File: package.json\n",
            "Download link: https://raw.githubusercontent.com/midudev/porfolio.dev/main/package.json\n",
            "- File: pnpm-lock.yaml\n",
            "Download link: https://raw.githubusercontent.com/midudev/porfolio.dev/main/pnpm-lock.yaml\n",
            "- Dir: public\n",
            "- Dir: src\n",
            "- File: tailwind.config.mjs\n",
            "Download link: https://raw.githubusercontent.com/midudev/porfolio.dev/main/tailwind.config.mjs\n",
            "- File: tsconfig.json\n",
            "Download link: https://raw.githubusercontent.com/midudev/porfolio.dev/main/tsconfig.json\n"
          ]
        }
      ],
      "source": [
        "file_links = repo_content(owner=\"midudev\",repo=\"porfolio.dev\")"
      ]
    },
    {
      "cell_type": "markdown",
      "metadata": {
        "id": "24SYI-h_-drX"
      },
      "source": [
        "Get the content of a subdirectory"
      ]
    },
    {
      "cell_type": "code",
      "execution_count": 105,
      "metadata": {
        "colab": {
          "base_uri": "https://localhost:8080/"
        },
        "id": "iZYmBaU4-NAz",
        "outputId": "91780f8d-7869-450f-8262-f6c66db6494e"
      },
      "outputs": [
        {
          "name": "stdout",
          "output_type": "stream",
          "text": [
            "Owner:  midudev \n",
            " Name of the repo: porfolio.dev\n",
            " Content: [{'name': 'favicon.svg', 'path': 'public/favicon.svg', 'sha': '382ee01227e1de62a8eb4c6c433505cf54a8debb', 'size': 514, 'url': 'https://api.github.com/repos/midudev/porfolio.dev/contents/public/favicon.svg?ref=main', 'html_url': 'https://github.com/midudev/porfolio.dev/blob/main/public/favicon.svg', 'git_url': 'https://api.github.com/repos/midudev/porfolio.dev/git/blobs/382ee01227e1de62a8eb4c6c433505cf54a8debb', 'download_url': 'https://raw.githubusercontent.com/midudev/porfolio.dev/main/public/favicon.svg', 'type': 'file', '_links': {'self': 'https://api.github.com/repos/midudev/porfolio.dev/contents/public/favicon.svg?ref=main', 'git': 'https://api.github.com/repos/midudev/porfolio.dev/git/blobs/382ee01227e1de62a8eb4c6c433505cf54a8debb', 'html': 'https://github.com/midudev/porfolio.dev/blob/main/public/favicon.svg'}}, {'name': 'me.png', 'path': 'public/me.png', 'sha': '6ca44a4956af206843439c5f395d793f8ce4e62b', 'size': 81008, 'url': 'https://api.github.com/repos/midudev/porfolio.dev/contents/public/me.png?ref=main', 'html_url': 'https://github.com/midudev/porfolio.dev/blob/main/public/me.png', 'git_url': 'https://api.github.com/repos/midudev/porfolio.dev/git/blobs/6ca44a4956af206843439c5f395d793f8ce4e62b', 'download_url': 'https://raw.githubusercontent.com/midudev/porfolio.dev/main/public/me.png', 'type': 'file', '_links': {'self': 'https://api.github.com/repos/midudev/porfolio.dev/contents/public/me.png?ref=main', 'git': 'https://api.github.com/repos/midudev/porfolio.dev/git/blobs/6ca44a4956af206843439c5f395d793f8ce4e62b', 'html': 'https://github.com/midudev/porfolio.dev/blob/main/public/me.png'}}, {'name': 'midudev.webp', 'path': 'public/midudev.webp', 'sha': '11046f278d2e66e63ab13b48df46a0b1f86adf07', 'size': 10114, 'url': 'https://api.github.com/repos/midudev/porfolio.dev/contents/public/midudev.webp?ref=main', 'html_url': 'https://github.com/midudev/porfolio.dev/blob/main/public/midudev.webp', 'git_url': 'https://api.github.com/repos/midudev/porfolio.dev/git/blobs/11046f278d2e66e63ab13b48df46a0b1f86adf07', 'download_url': 'https://raw.githubusercontent.com/midudev/porfolio.dev/main/public/midudev.webp', 'type': 'file', '_links': {'self': 'https://api.github.com/repos/midudev/porfolio.dev/contents/public/midudev.webp?ref=main', 'git': 'https://api.github.com/repos/midudev/porfolio.dev/git/blobs/11046f278d2e66e63ab13b48df46a0b1f86adf07', 'html': 'https://github.com/midudev/porfolio.dev/blob/main/public/midudev.webp'}}, {'name': 'porfolio.webp', 'path': 'public/porfolio.webp', 'sha': 'bb771c24ad8601e0bfb9008659c0eb8136836933', 'size': 18552, 'url': 'https://api.github.com/repos/midudev/porfolio.dev/contents/public/porfolio.webp?ref=main', 'html_url': 'https://github.com/midudev/porfolio.dev/blob/main/public/porfolio.webp', 'git_url': 'https://api.github.com/repos/midudev/porfolio.dev/git/blobs/bb771c24ad8601e0bfb9008659c0eb8136836933', 'download_url': 'https://raw.githubusercontent.com/midudev/porfolio.dev/main/public/porfolio.webp', 'type': 'file', '_links': {'self': 'https://api.github.com/repos/midudev/porfolio.dev/contents/public/porfolio.webp?ref=main', 'git': 'https://api.github.com/repos/midudev/porfolio.dev/git/blobs/bb771c24ad8601e0bfb9008659c0eb8136836933', 'html': 'https://github.com/midudev/porfolio.dev/blob/main/public/porfolio.webp'}}, {'name': 'projects', 'path': 'public/projects', 'sha': '1e18f6a2cbe695843e4b402e2dabf6428188f32c', 'size': 0, 'url': 'https://api.github.com/repos/midudev/porfolio.dev/contents/public/projects?ref=main', 'html_url': 'https://github.com/midudev/porfolio.dev/tree/main/public/projects', 'git_url': 'https://api.github.com/repos/midudev/porfolio.dev/git/trees/1e18f6a2cbe695843e4b402e2dabf6428188f32c', 'download_url': None, 'type': 'dir', '_links': {'self': 'https://api.github.com/repos/midudev/porfolio.dev/contents/public/projects?ref=main', 'git': 'https://api.github.com/repos/midudev/porfolio.dev/git/trees/1e18f6a2cbe695843e4b402e2dabf6428188f32c', 'html': 'https://github.com/midudev/porfolio.dev/tree/main/public/projects'}}] \n",
            "\n",
            "- File: favicon.svg\n",
            "Download link: https://raw.githubusercontent.com/midudev/porfolio.dev/main/public/favicon.svg\n",
            "- File: me.png\n",
            "Download link: https://raw.githubusercontent.com/midudev/porfolio.dev/main/public/me.png\n",
            "- File: midudev.webp\n",
            "Download link: https://raw.githubusercontent.com/midudev/porfolio.dev/main/public/midudev.webp\n",
            "- File: porfolio.webp\n",
            "Download link: https://raw.githubusercontent.com/midudev/porfolio.dev/main/public/porfolio.webp\n",
            "- Dir: projects\n"
          ]
        }
      ],
      "source": [
        "file_links = repo_content(owner=\"midudev\",repo=\"porfolio.dev\",path=\"public\")"
      ]
    },
    {
      "cell_type": "markdown",
      "metadata": {
        "id": "1ymB0mPU-Kzc"
      },
      "source": [
        "Requesting a specific file"
      ]
    },
    {
      "cell_type": "code",
      "execution_count": 106,
      "metadata": {
        "colab": {
          "base_uri": "https://localhost:8080/"
        },
        "id": "o1NogPy6_FY2",
        "outputId": "c3bed056-d5a5-41ed-e086-0077143cd207"
      },
      "outputs": [
        {
          "name": "stdout",
          "output_type": "stream",
          "text": [
            "Owner:  midudev \n",
            " Name of the repo: porfolio.dev\n",
            " Content: {'name': 'favicon.svg', 'path': 'public/favicon.svg', 'sha': '382ee01227e1de62a8eb4c6c433505cf54a8debb', 'size': 514, 'url': 'https://api.github.com/repos/midudev/porfolio.dev/contents/public/favicon.svg?ref=main', 'html_url': 'https://github.com/midudev/porfolio.dev/blob/main/public/favicon.svg', 'git_url': 'https://api.github.com/repos/midudev/porfolio.dev/git/blobs/382ee01227e1de62a8eb4c6c433505cf54a8debb', 'download_url': 'https://raw.githubusercontent.com/midudev/porfolio.dev/main/public/favicon.svg', 'type': 'file', 'content': 'PHN2ZwogIHhtbG5zPSJodHRwOi8vd3d3LnczLm9yZy8yMDAwL3N2ZyIKICB3\\naWR0aD0iMjQiCiAgaGVpZ2h0PSIyNCIKICB2aWV3Qm94PSIwIDAgMjQgMjQi\\nCiAgc3Ryb2tlLXdpZHRoPSIyIgogIHN0cm9rZT0iY3VycmVudENvbG9yIgog\\nIGZpbGw9Im5vbmUiCiAgc3Ryb2tlLWxpbmVjYXA9InJvdW5kIgogIHN0cm9r\\nZS1saW5lam9pbj0icm91bmQiCiAgPjxwYXRoIHN0cm9rZT0ibm9uZSIgZD0i\\nTTAgMGgyNHYyNEgweiIgZmlsbD0ibm9uZSI+PC9wYXRoPjxwYXRoCiAgICBk\\nPSJNNyA4bC00IDRsNCA0Ij48L3BhdGg+PHBhdGggZD0iTTE3IDhsNCA0bC00\\nIDQiPjwvcGF0aD48cGF0aAogICAgZD0iTTE0IDRsLTQgMTYiPjwvcGF0aD4K\\nICAgIDxzdHlsZT4KICAgICAgICBzdmcgeyBjb2xvcjogIzAwMDsgfQogICAg\\nICAgIEBtZWRpYSAocHJlZmVycy1jb2xvci1zY2hlbWU6IGRhcmspIHsKICAg\\nICAgICAgICAgc3ZnIHsgY29sb3I6ICNGRkY7IH0KICAgICAgICB9CiAgICA8\\nL3N0eWxlPgogICAgPC9zdmcKPg==\\n', 'encoding': 'base64', '_links': {'self': 'https://api.github.com/repos/midudev/porfolio.dev/contents/public/favicon.svg?ref=main', 'git': 'https://api.github.com/repos/midudev/porfolio.dev/git/blobs/382ee01227e1de62a8eb4c6c433505cf54a8debb', 'html': 'https://github.com/midudev/porfolio.dev/blob/main/public/favicon.svg'}} \n",
            "\n",
            "File: favicon.svg\n",
            "Download link: https://raw.githubusercontent.com/midudev/porfolio.dev/main/public/favicon.svg\n"
          ]
        }
      ],
      "source": [
        "file_links = repo_content(owner=\"midudev\",repo=\"porfolio.dev\",path=\"public/favicon.svg\")"
      ]
    },
    {
      "cell_type": "markdown",
      "metadata": {
        "id": "UoEcKpc1Dbes"
      },
      "source": [
        "# Troubleshooting Guide"
      ]
    },
    {
      "cell_type": "markdown",
      "metadata": {
        "id": "3MxafnB5DrYu"
      },
      "source": [
        "Checking rate limit"
      ]
    },
    {
      "cell_type": "code",
      "execution_count": 98,
      "metadata": {
        "colab": {
          "base_uri": "https://localhost:8080/"
        },
        "id": "8EGQBEnhE7Su",
        "outputId": "08c86dda-0340-4a78-c3f7-dec1ed2cc8e9"
      },
      "outputs": [
        {
          "name": "stdout",
          "output_type": "stream",
          "text": [
            "Remaining requests: 4975\n",
            "Reset datetime: 2025-06-26 22:49:52\n"
          ]
        }
      ],
      "source": [
        "rate_limit(headers)"
      ]
    },
    {
      "cell_type": "markdown",
      "metadata": {
        "id": "Q0og1TEfFEDS"
      },
      "source": [
        "Checking Auth Token. If your token is verified the function displays your username"
      ]
    },
    {
      "cell_type": "code",
      "execution_count": 99,
      "metadata": {
        "colab": {
          "base_uri": "https://localhost:8080/"
        },
        "id": "F973rJW7FnQJ",
        "outputId": "e9e6fc74-1fa8-4705-9eb4-ac3eee69e9ee"
      },
      "outputs": [
        {
          "name": "stdout",
          "output_type": "stream",
          "text": [
            "Succesful opperation. Authenticated user: manu97a\n"
          ]
        }
      ],
      "source": [
        "test_connection()"
      ]
    },
    {
      "cell_type": "markdown",
      "metadata": {
        "id": "AqXobihgFsk5"
      },
      "source": [
        "There is a possibility that when using the API the limit allowed by GitHub may be exceeded, that is the reason why error handling has been added to the functions.\n",
        "The limits per page cannot be greater than 100 and the product between per_page and page cannot be greater than 1000"
      ]
    },
    {
      "cell_type": "code",
      "execution_count": 100,
      "metadata": {
        "colab": {
          "base_uri": "https://localhost:8080/"
        },
        "id": "gBTZ0JhjHL4n",
        "outputId": "29a28097-2b94-4672-9560-97e7f5064cab"
      },
      "outputs": [
        {
          "name": "stdout",
          "output_type": "stream",
          "text": [
            "Error. per_page cannot be greater than 100 (Github Limit)\n"
          ]
        },
        {
          "data": {
            "text/plain": [
              "(None, None)"
            ]
          },
          "execution_count": 100,
          "metadata": {},
          "output_type": "execute_result"
        }
      ],
      "source": [
        "get_commits(owner=\"midudev\",repo=\"aprendiendo-react\",per_page=200,page=25)"
      ]
    },
    {
      "cell_type": "code",
      "execution_count": 101,
      "metadata": {
        "colab": {
          "base_uri": "https://localhost:8080/"
        },
        "id": "CMimCMi6I4D3",
        "outputId": "66c7bd3f-cbbc-475d-a821-6c111ffe3d70"
      },
      "outputs": [
        {
          "name": "stdout",
          "output_type": "stream",
          "text": [
            "Error. per_page*page cannot be greater than 1000 results (Github Limit)\n"
          ]
        },
        {
          "data": {
            "text/plain": [
              "(None, None)"
            ]
          },
          "execution_count": 101,
          "metadata": {},
          "output_type": "execute_result"
        }
      ],
      "source": [
        "get_commits(owner=\"midudev\",repo=\"aprendiendo-react\",per_page=50,page=25)"
      ]
    },
    {
      "cell_type": "code",
      "execution_count": 102,
      "metadata": {
        "colab": {
          "base_uri": "https://localhost:8080/"
        },
        "id": "Yoso9H-oKP8I",
        "outputId": "4210b590-87b5-4c6b-df1e-b88ee3a95e48"
      },
      "outputs": [
        {
          "name": "stdout",
          "output_type": "stream",
          "text": [
            "Error. per_page cannot be greater than 100 (Github Limit)\n"
          ]
        }
      ],
      "source": [
        "repos, url = search_public_repositories(\"javascript\",per_page=150)"
      ]
    },
    {
      "cell_type": "code",
      "execution_count": 103,
      "metadata": {
        "colab": {
          "base_uri": "https://localhost:8080/"
        },
        "id": "YIlVr98jKUDh",
        "outputId": "4dd90d29-385d-4963-d992-ba8b47492971"
      },
      "outputs": [
        {
          "name": "stdout",
          "output_type": "stream",
          "text": [
            "Error. per_page*page cannot be greater than 1000 results (Github Limit)\n"
          ]
        }
      ],
      "source": [
        "repos, url = search_public_repositories(\"javascript\",per_page=50,page=25)"
      ]
    }
  ],
  "metadata": {
    "colab": {
      "provenance": []
    },
    "kernelspec": {
      "display_name": "Python 3",
      "name": "python3"
    },
    "language_info": {
      "name": "python"
    }
  },
  "nbformat": 4,
  "nbformat_minor": 0
}
